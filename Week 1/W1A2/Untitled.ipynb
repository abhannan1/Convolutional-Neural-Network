{
 "cells": [
  {
   "cell_type": "code",
   "execution_count": 1,
   "id": "2275c8ce-55c0-4ef7-96f2-93f85b4c59ff",
   "metadata": {},
   "outputs": [
    {
     "data": {
      "text/plain": [
       "3.0"
      ]
     },
     "execution_count": 1,
     "metadata": {},
     "output_type": "execute_result"
    }
   ],
   "source": [
    "float(3)"
   ]
  },
  {
   "cell_type": "code",
   "execution_count": 3,
   "id": "8392996e-8735-4993-ab6b-03c43dd4ecf7",
   "metadata": {},
   "outputs": [
    {
     "data": {
      "text/plain": [
       "1.0"
      ]
     },
     "execution_count": 3,
     "metadata": {},
     "output_type": "execute_result"
    }
   ],
   "source": [
    "float(\"1\")"
   ]
  },
  {
   "cell_type": "code",
   "execution_count": 4,
   "id": "2fa69a28-f95b-4dfa-85b1-bd00f35d2d5c",
   "metadata": {},
   "outputs": [],
   "source": [
    "import numpy as np"
   ]
  },
  {
   "cell_type": "code",
   "execution_count": 5,
   "id": "a1b4db4f-ab74-4b6d-ba36-f97261419d15",
   "metadata": {},
   "outputs": [
    {
     "data": {
      "text/plain": [
       "3.0"
      ]
     },
     "execution_count": 5,
     "metadata": {},
     "output_type": "execute_result"
    }
   ],
   "source": [
    "np.float_(3)"
   ]
  },
  {
   "cell_type": "code",
   "execution_count": 14,
   "id": "df5b96ed-440b-4801-8caa-8712d6d7f714",
   "metadata": {},
   "outputs": [
    {
     "data": {
      "text/plain": [
       "array([3, 2])"
      ]
     },
     "execution_count": 14,
     "metadata": {},
     "output_type": "execute_result"
    }
   ],
   "source": [
    "np.squeeze([[3],[2]])"
   ]
  },
  {
   "cell_type": "code",
   "execution_count": 15,
   "id": "43939364-202e-463c-9c12-ee8f4476e70f",
   "metadata": {},
   "outputs": [
    {
     "data": {
      "text/plain": [
       "array([[3],\n",
       "       [2]])"
      ]
     },
     "execution_count": 15,
     "metadata": {},
     "output_type": "execute_result"
    }
   ],
   "source": [
    "np.array([[3],[2]])"
   ]
  },
  {
   "cell_type": "code",
   "execution_count": 9,
   "id": "203d98c4-ecee-4e0e-af1d-1620785d8206",
   "metadata": {},
   "outputs": [],
   "source": [
    "import numpy as np"
   ]
  },
  {
   "cell_type": "code",
   "execution_count": 10,
   "id": "d904679c-1e15-4f84-a7ea-f8923179e87c",
   "metadata": {},
   "outputs": [],
   "source": [
    "from PIL import Image\n",
    "\n",
    "image = Image.open(\"./s.JPG\")\n",
    "\n",
    "image_np = np.array(image)\n",
    "image_np.shape\n",
    "\n",
    "# Assuming image_np is your NumPy array representing the image\n",
    "image_pil = Image.fromarray(image_np.astype('uint8'))\n",
    "\n",
    "# Resize the image\n",
    "resized_image_pil = image_pil.resize((70, 70))\n",
    "\n",
    "# Convert the resized image back to a NumPy array\n",
    "resized_image_np = np.array(resized_image_pil)"
   ]
  },
  {
   "cell_type": "code",
   "execution_count": 12,
   "id": "6c930c0a-4878-47c6-b170-1785a8fea231",
   "metadata": {},
   "outputs": [
    {
     "data": {
      "text/plain": [
       "(70, 70, 3)"
      ]
     },
     "execution_count": 12,
     "metadata": {},
     "output_type": "execute_result"
    }
   ],
   "source": [
    "resized_image_np.shape"
   ]
  },
  {
   "cell_type": "code",
   "execution_count": null,
   "id": "441a96e6-9de5-4e5e-a570-20506781ae06",
   "metadata": {},
   "outputs": [],
   "source": []
  },
  {
   "cell_type": "code",
   "execution_count": 14,
   "id": "c4a0de3d-fba7-45ea-b910-b0f08db5d2f7",
   "metadata": {},
   "outputs": [
    {
     "data": {
      "text/plain": [
       "(70, 70, 3)"
      ]
     },
     "execution_count": 14,
     "metadata": {},
     "output_type": "execute_result"
    }
   ],
   "source": [
    "from skimage.transform import resize\n",
    "\n",
    "\n",
    "image2 = Image.open(\"./s1.JPG\")\n",
    "\n",
    "image_np2 = np.array(image2)\n",
    "image_np2.shape\n",
    "\n",
    "resized_image2 = resize(image_np2, (70, 70, 3))\n",
    "\n",
    "\n",
    "resized_image2.shape"
   ]
  },
  {
   "cell_type": "code",
   "execution_count": null,
   "id": "0ed302df-b15c-46e0-9573-d058eb68a600",
   "metadata": {},
   "outputs": [],
   "source": []
  }
 ],
 "metadata": {
  "kernelspec": {
   "display_name": "Python 3 (ipykernel)",
   "language": "python",
   "name": "python3"
  },
  "language_info": {
   "codemirror_mode": {
    "name": "ipython",
    "version": 3
   },
   "file_extension": ".py",
   "mimetype": "text/x-python",
   "name": "python",
   "nbconvert_exporter": "python",
   "pygments_lexer": "ipython3",
   "version": "3.11.5"
  }
 },
 "nbformat": 4,
 "nbformat_minor": 5
}
